{
 "cells": [
  {
   "cell_type": "markdown",
   "metadata": {},
   "source": [
    "# Navigation\n",
    "\n",
    "\n",
    "### 1. Start the Environment\n",
    "\n",
    "Import necessary packages"
   ]
  },
  {
   "cell_type": "code",
   "execution_count": 1,
   "metadata": {},
   "outputs": [],
   "source": [
    "from unityagents import UnityEnvironment\n",
    "import numpy as np\n",
    "import gym\n",
    "import random\n",
    "import torch\n",
    "import torch.nn as nn\n",
    "import torch.optim as optim\n",
    "import torch.nn.functional as F\n",
    "from collections import namedtuple, deque\n",
    "import matplotlib.pyplot as plt\n",
    "%matplotlib inline"
   ]
  },
  {
   "cell_type": "markdown",
   "metadata": {},
   "source": [
    "**_Before running the code cell below_**, change the `file_name` parameter to match the location of the Unity environment that you downloaded.\n",
    "\n",
    "- **Mac**: `\"path/to/Banana.app\"`\n",
    "- **Windows** (x86): `\"path/to/Banana_Windows_x86/Banana.exe\"`\n",
    "- **Windows** (x86_64): `\"path/to/Banana_Windows_x86_64/Banana.exe\"`\n",
    "- **Linux** (x86): `\"path/to/Banana_Linux/Banana.x86\"`\n",
    "- **Linux** (x86_64): `\"path/to/Banana_Linux/Banana.x86_64\"`\n",
    "- **Linux** (x86, headless): `\"path/to/Banana_Linux_NoVis/Banana.x86\"`\n",
    "- **Linux** (x86_64, headless): `\"path/to/Banana_Linux_NoVis/Banana.x86_64\"`\n",
    "\n",
    "For instance, if you are using a Mac, then you downloaded `Banana.app`.  If this file is in the same folder as the notebook, then the line below should appear as follows:\n",
    "```\n",
    "env = UnityEnvironment(file_name=\"Banana.app\")\n",
    "```"
   ]
  },
  {
   "cell_type": "code",
   "execution_count": 2,
   "metadata": {},
   "outputs": [
    {
     "name": "stderr",
     "output_type": "stream",
     "text": [
      "INFO:unityagents:\n",
      "'Academy' started successfully!\n",
      "Unity Academy name: Academy\n",
      "        Number of Brains: 1\n",
      "        Number of External Brains : 1\n",
      "        Lesson number : 0\n",
      "        Reset Parameters :\n",
      "\t\t\n",
      "Unity brain name: BananaBrain\n",
      "        Number of Visual Observations (per agent): 0\n",
      "        Vector Observation space type: continuous\n",
      "        Vector Observation space size (per agent): 37\n",
      "        Number of stacked Vector Observation: 1\n",
      "        Vector Action space type: discrete\n",
      "        Vector Action space size (per agent): 4\n",
      "        Vector Action descriptions: , , , \n"
     ]
    }
   ],
   "source": [
    "env = UnityEnvironment(file_name=\"/Applications/Banana.app\")"
   ]
  },
  {
   "cell_type": "markdown",
   "metadata": {},
   "source": [
    "Check for the first brain available, and set it as the default brain we will be controlling from Python."
   ]
  },
  {
   "cell_type": "code",
   "execution_count": 3,
   "metadata": {},
   "outputs": [],
   "source": [
    "# get the default brain\n",
    "brain_name = env.brain_names[0]\n",
    "brain = env.brains[brain_name]\n",
    "\n",
    "device = torch.device(\"cuda:0\" if torch.cuda.is_available() else \"cpu\")"
   ]
  },
  {
   "cell_type": "markdown",
   "metadata": {},
   "source": [
    "### 2. Examine the State and Action Spaces\n",
    "\n",
    "The simulation contains a single agent that navigates a large environment.  At each time step, it has four actions at its disposal:\n",
    "- `0` - walk forward \n",
    "- `1` - walk backward\n",
    "- `2` - turn left\n",
    "- `3` - turn right\n",
    "\n",
    "The state space has `37` dimensions and contains the agent's velocity, along with ray-based perception of objects around agent's forward direction.  A reward of `+1` is provided for collecting a yellow banana, and a reward of `-1` is provided for collecting a blue banana. \n",
    "\n",
    "Run the code cell below to print some information about the environment."
   ]
  },
  {
   "cell_type": "code",
   "execution_count": 4,
   "metadata": {},
   "outputs": [
    {
     "name": "stdout",
     "output_type": "stream",
     "text": [
      "Number of agents: 1\n",
      "Number of actions: 4\n",
      "States look like: [1.         0.         0.         0.         0.84408134 0.\n",
      " 0.         1.         0.         0.0748472  0.         1.\n",
      " 0.         0.         0.25755    1.         0.         0.\n",
      " 0.         0.74177343 0.         1.         0.         0.\n",
      " 0.25854847 0.         0.         1.         0.         0.09355672\n",
      " 0.         1.         0.         0.         0.31969345 0.\n",
      " 0.        ]\n",
      "States have length: 37\n"
     ]
    }
   ],
   "source": [
    "# reset the environment\n",
    "env_info = env.reset(train_mode=True)[brain_name]\n",
    "\n",
    "# number of agents in the environment\n",
    "print('Number of agents:', len(env_info.agents))\n",
    "\n",
    "# number of actions\n",
    "action_size = brain.vector_action_space_size\n",
    "print('Number of actions:', action_size)\n",
    "\n",
    "# examine the state space \n",
    "state = env_info.vector_observations[0]\n",
    "print('States look like:', state)\n",
    "state_size = len(state)\n",
    "print('States have length:', state_size)"
   ]
  },
  {
   "cell_type": "markdown",
   "metadata": {},
   "source": [
    "### 3. Training Method"
   ]
  },
  {
   "cell_type": "code",
   "execution_count": 5,
   "metadata": {},
   "outputs": [],
   "source": [
    "def train(\n",
    "    agent,\n",
    "    file_name,\n",
    "    n_episodes=2000,\n",
    "    max_t=1000,\n",
    "    eps_start=1.0,\n",
    "    eps_end=0.01,\n",
    "    eps_decay=0.995):\n",
    "\n",
    "    \"\"\"Deep Q-Learning.\n",
    "    \n",
    "    Params\n",
    "    ======\n",
    "        n_episodes (int): maximum number of training episodes\n",
    "        max_t (int): maximum number of timesteps per episode\n",
    "        eps_start (float): starting value of epsilon, for epsilon-greedy action selection\n",
    "        eps_end (float): minimum value of epsilon\n",
    "        eps_decay (float): multiplicative factor (per episode) for decreasing epsilon\n",
    "    \"\"\"\n",
    "    scores = []                        # list containing scores from each episode\n",
    "    scores_window = deque(maxlen=100)  # last 100 scores\n",
    "    eps = eps_start                    # initialize epsilon\n",
    "    \n",
    "    for i_episode in range(1, n_episodes+1):\n",
    "\n",
    "        env_info = env.reset(train_mode=True)[brain_name]\n",
    "        state = env_info.vector_observations[0] \n",
    "        score = 0\n",
    "\n",
    "        for t in range(max_t):\n",
    "            action = agent.act(state, eps)\n",
    "            env_info = env.step(action)[brain_name]\n",
    "            next_state = env_info.vector_observations[0]\n",
    "            reward = env_info.rewards[0]\n",
    "            done = env_info.local_done[0]\n",
    "            agent.step(state, action, reward, next_state, done)\n",
    "            state = next_state\n",
    "            score += reward\n",
    "\n",
    "            if done:\n",
    "                break \n",
    "\n",
    "        scores_window.append(score)       # save most recent score\n",
    "        scores.append(score)              # save most recent score\n",
    "        eps = max(eps_end, eps_decay*eps) # decrease epsilon\n",
    "\n",
    "        print('\\rEpisode {}\\tAverage Score: {:.2f}'.format(\n",
    "            i_episode,\n",
    "            np.mean(scores_window)), end=\"\")\n",
    "\n",
    "        if i_episode % 100 == 0:\n",
    "\n",
    "            print('\\rEpisode {}\\tAverage Score: {:.2f}'.format(\n",
    "                i_episode,\n",
    "                np.mean(scores_window)))\n",
    "\n",
    "        if np.mean(scores_window)>=13.0:\n",
    "\n",
    "            print('\\nEnvironment solved in {:d} episodes!\\tAverage Score: {:.2f}'.format(\n",
    "                i_episode-100,\n",
    "                np.mean(scores_window)))\n",
    "\n",
    "            torch.save(agent.qnetwork_local.state_dict(), file_name)\n",
    "            break\n",
    "            \n",
    "    # plot the scores\n",
    "    fig = plt.figure()\n",
    "    ax = fig.add_subplot(111)\n",
    "    plt.plot(np.arange(len(scores)), scores)\n",
    "    plt.ylabel('Score')\n",
    "    plt.xlabel('Episode #')\n",
    "    plt.show()\n",
    "    return"
   ]
  },
  {
   "cell_type": "markdown",
   "metadata": {},
   "source": [
    "### 4. Testing Method"
   ]
  },
  {
   "cell_type": "code",
   "execution_count": 6,
   "metadata": {},
   "outputs": [],
   "source": [
    "def test(agent, file_name):\n",
    "    agent.qnetwork_local.load_state_dict(torch.load(file_name))\n",
    "\n",
    "    env_info = env.reset(train_mode=False)[brain_name]\n",
    "    state = env_info.vector_observations[0] \n",
    "    score = 0\n",
    "\n",
    "    for j in range(200):\n",
    "        action = agent.act(state)\n",
    "        env_info = env.step(action)[brain_name]\n",
    "        state = env_info.vector_observations[0]\n",
    "        reward = env_info.rewards[0]\n",
    "        score += reward\n",
    "        done = env_info.local_done[0]\n",
    "        if done:\n",
    "            break \n",
    "\n",
    "    print(\"Score: {}\".format(score))"
   ]
  },
  {
   "cell_type": "markdown",
   "metadata": {},
   "source": [
    "### 5. Vanilla Deep Q-Network Implementation\n",
    "\n",
    "Use the same Neural Network configuration as in Deep-Q-Network exercise"
   ]
  },
  {
   "cell_type": "code",
   "execution_count": 7,
   "metadata": {},
   "outputs": [],
   "source": [
    "class VanillaQNetwork(nn.Module):\n",
    "    \"\"\"Vanilla Actor (Policy) Model.\"\"\"\n",
    "\n",
    "    def __init__(self, state_size, action_size, seed):\n",
    "        \"\"\"Initialize parameters and build model.\n",
    "        Params\n",
    "        ======\n",
    "            state_size (int): Dimension of each state\n",
    "            action_size (int): Dimension of each action\n",
    "            seed (int): Random seed\n",
    "        \"\"\"\n",
    "        super(VanillaQNetwork, self).__init__()\n",
    "        self.seed = torch.manual_seed(seed)\n",
    "\n",
    "        self.fc1 = nn.Linear(state_size, 64)\n",
    "        self.fc2 = nn.Linear(64, 64)\n",
    "        self.fc3 = nn.Linear(64, action_size)\n",
    "\n",
    "        \n",
    "    def forward(self, state):\n",
    "        \"\"\"Build a network that maps state -> action values.\"\"\"\n",
    "        x = self.fc1(state)\n",
    "        x = F.relu(x)\n",
    "        x = self.fc2(x)\n",
    "        x = F.relu(x)\n",
    "        x = self.fc3(x)\n",
    "        return x"
   ]
  },
  {
   "cell_type": "markdown",
   "metadata": {},
   "source": [
    "Define Agent, implementing classical Deep-Q-Network learning with non-prioritized replay memory:"
   ]
  },
  {
   "cell_type": "code",
   "execution_count": 8,
   "metadata": {},
   "outputs": [],
   "source": [
    "BUFFER_SIZE = int(1e5)  # replay buffer size\n",
    "BATCH_SIZE = 64         # minibatch size\n",
    "GAMMA = 0.99            # discount factor\n",
    "TAU = 1e-3              # for soft update of target parameters\n",
    "LR = 5e-4               # learning rate \n",
    "UPDATE_EVERY = 4        # how often to update the network"
   ]
  },
  {
   "cell_type": "code",
   "execution_count": 9,
   "metadata": {},
   "outputs": [],
   "source": [
    "Experience = namedtuple(\n",
    "    \"Experience\",\n",
    "    field_names=[\"state\", \"action\", \"reward\", \"next_state\", \"done\"])\n",
    "\n",
    "\n",
    "def experience_to_torch_device(experiences):\n",
    "    states = torch.from_numpy(np.vstack(\n",
    "        [e.state for e in experiences if e is not None])).float().to(device)\n",
    "\n",
    "    actions = torch.from_numpy(np.vstack(\n",
    "        [e.action for e in experiences if e is not None])).long().to(device)\n",
    "\n",
    "    rewards = torch.from_numpy(np.vstack(\n",
    "        [e.reward for e in experiences if e is not None])).float().to(device)\n",
    "\n",
    "    next_states = torch.from_numpy(np.vstack(\n",
    "        [e.next_state for e in experiences if e is not None])).float().to(device)\n",
    "\n",
    "    dones = torch.from_numpy(np.vstack(\n",
    "        [e.done for e in experiences if e is not None]).astype(np.uint8)).float().to(device)\n",
    "\n",
    "    return (states, actions, rewards, next_states, dones)"
   ]
  },
  {
   "cell_type": "code",
   "execution_count": 10,
   "metadata": {},
   "outputs": [],
   "source": [
    "class ReplayBuffer:\n",
    "    \"\"\"Fixed-size buffer to store experience tuples.\"\"\"\n",
    "\n",
    "    def __init__(self, action_size, buffer_size, batch_size, seed):\n",
    "        \"\"\"Initialize a ReplayBuffer object.\n",
    "\n",
    "        Params\n",
    "        ======\n",
    "            action_size (int): dimension of each action\n",
    "            buffer_size (int): maximum size of buffer\n",
    "            batch_size (int): size of each training batch\n",
    "            seed (int): random seed\n",
    "        \"\"\"\n",
    "        self.action_size = action_size\n",
    "        self.memory = deque(maxlen=buffer_size)  \n",
    "        self.batch_size = batch_size\n",
    "        self.seed = random.seed(seed)\n",
    "        \n",
    "        random.seed(seed)\n",
    "\n",
    "        \n",
    "    def add(self, state, action, reward, next_state, done):\n",
    "        \"\"\"Add a new experience to memory.\"\"\"\n",
    "        e = Experience(state, action, reward, next_state, done)\n",
    "        self.memory.append(e)\n",
    "\n",
    "        \n",
    "    def sample(self, calc_target_outputs):\n",
    "        \"\"\"Randomly sample a batch of experiences from memory.\"\"\"\n",
    "        experiences = random.sample(self.memory, k=self.batch_size)\n",
    "\n",
    "        state, action, reward, next_state, done = \\\n",
    "            experience_to_torch_device(experiences)\n",
    "\n",
    "        return calc_target_outputs(state, action, reward, next_state, done)\n",
    "\n",
    "\n",
    "    def __len__(self):\n",
    "        \"\"\"Return the current size of internal memory.\"\"\"\n",
    "        return len(self.memory)"
   ]
  },
  {
   "cell_type": "code",
   "execution_count": 11,
   "metadata": {},
   "outputs": [],
   "source": [
    "class VanillaAgent():\n",
    "    \"\"\"Interacts with and learns from the environment.\"\"\"\n",
    "\n",
    "    def __init__(self, state_size, action_size, seed):\n",
    "        \"\"\"Initialize an Agent object.\n",
    "        \n",
    "        Params\n",
    "        ======\n",
    "            state_size (int): dimension of each state\n",
    "            action_size (int): dimension of each action\n",
    "            seed (int): random seed\n",
    "        \"\"\"\n",
    "        self.state_size = state_size\n",
    "        self.action_size = action_size\n",
    "        self.seed = seed\n",
    "\n",
    "        # Q-Network\n",
    "        self.qnetwork_local = self._createNetwork()\n",
    "        self.qnetwork_target = self._createNetwork()\n",
    "        self.optimizer_local = optim.Adam(self.qnetwork_local.parameters(), lr=LR)\n",
    "        self.optimizer_target = optim.Adam(self.qnetwork_target.parameters(), lr=LR)\n",
    "        \n",
    "        # Replay memory\n",
    "        self.memory = self._createMemory()\n",
    "        # Initialize time step (for updating every UPDATE_EVERY steps)\n",
    "        self.t_step = 0\n",
    "        \n",
    "        \n",
    "    def _createNetwork(self):\n",
    "        return VanillaQNetwork(self.state_size, self.action_size, self.seed).to(device)\n",
    "    \n",
    "    \n",
    "    def _createMemory(self):\n",
    "        return ReplayBuffer(self.action_size, BUFFER_SIZE, BATCH_SIZE, self.seed)\n",
    "\n",
    "        \n",
    "    def step(self, state, action, reward, next_state, done):\n",
    "        # Save experience in replay memory\n",
    "        self.memory.add(state, action, reward, next_state, done)\n",
    "        \n",
    "        # Learn every UPDATE_EVERY time steps.\n",
    "        self.t_step = (self.t_step + 1) % UPDATE_EVERY\n",
    "        if self.t_step == 0:\n",
    "            # If enough samples are available in memory, get random subset and learn\n",
    "            if len(self.memory) > BATCH_SIZE:\n",
    "                self.learn()\n",
    "\n",
    "                \n",
    "    def act(self, state, eps=0.):\n",
    "        \"\"\"Returns actions for given state as per current policy.\n",
    "        \n",
    "        Params\n",
    "        ======\n",
    "            state (array_like): current state\n",
    "            eps (float): epsilon, for epsilon-greedy action selection\n",
    "        \"\"\"\n",
    "        state = torch.from_numpy(state).float().unsqueeze(0).to(device)\n",
    "        self.qnetwork_local.eval()\n",
    "        with torch.no_grad():\n",
    "            action_values = self.qnetwork_local(state)\n",
    "        self.qnetwork_local.train()\n",
    "\n",
    "        # Epsilon-greedy action selection\n",
    "        if random.random() > eps:\n",
    "            return np.argmax(action_values.cpu().data.numpy())\n",
    "        else:\n",
    "            return random.choice(np.arange(self.action_size))\n",
    "\n",
    "        \n",
    "    def learn(self):\n",
    "        \"\"\"Update value parameters using given batch of experience tuples.\n",
    "\n",
    "        Params\n",
    "        ======\n",
    "            experiences (Tuple[torch.Tensor]): tuple of (s, a, r, s', done) tuples \n",
    "            gamma (float): discount factor\n",
    "        \"\"\"\n",
    "        \n",
    "        targets, outputs = self.memory.sample(self._calc_targets_outputs)\n",
    "        loss = F.mse_loss(outputs, targets)\n",
    "        \n",
    "        self.optimizer_local.zero_grad()\n",
    "        loss.backward()      \n",
    "        self.optimizer_local.step()\n",
    "      \n",
    "        self.soft_update(self.qnetwork_local, self.qnetwork_target, TAU)\n",
    "        \n",
    "        \n",
    "    def _calc_targets_outputs(self, states, actions, rewards, next_states, dones):\n",
    "        targets = rewards + (1.0 - dones) * GAMMA \\\n",
    "            * self.qnetwork_target(next_states).detach().max(1)[0].unsqueeze(1)\n",
    "        \n",
    "        targets = targets.detach()\n",
    "        \n",
    "        outputs = self.qnetwork_local.forward(states).gather(1, actions)\n",
    "        return targets, outputs\n",
    "\n",
    "        \n",
    "    def soft_update(self, local_model, target_model, tau):\n",
    "        \"\"\"Soft update model parameters.\n",
    "        θ_target = τ*θ_local + (1 - τ)*θ_target\n",
    "\n",
    "        Params\n",
    "        ======\n",
    "            local_model (PyTorch model): weights will be copied from\n",
    "            target_model (PyTorch model): weights will be copied to\n",
    "            tau (float): interpolation parameter \n",
    "        \"\"\"\n",
    "        for target_param, local_param in \\\n",
    "            zip(target_model.parameters(), local_model.parameters()):\n",
    "\n",
    "            target_param.data.copy_(\n",
    "                tau*local_param.data + (1.0-tau)*target_param.data)"
   ]
  },
  {
   "cell_type": "code",
   "execution_count": 12,
   "metadata": {},
   "outputs": [
    {
     "name": "stdout",
     "output_type": "stream",
     "text": [
      "Episode 100\tAverage Score: 1.31\n",
      "Episode 200\tAverage Score: 5.56\n",
      "Episode 300\tAverage Score: 8.77\n",
      "Episode 400\tAverage Score: 10.42\n",
      "Episode 499\tAverage Score: 13.00\n",
      "Environment solved in 399 episodes!\tAverage Score: 13.00\n"
     ]
    },
    {
     "data": {
      "image/png": "[encoded data removed]",
      "text/plain": [
       "<Figure size 432x288 with 1 Axes>"
      ]
     },
     "metadata": {
      "needs_background": "light"
     },
     "output_type": "display_data"
    }
   ],
   "source": [
    "vanilla_agent = VanillaAgent(\n",
    "    state_size=state_size,\n",
    "    action_size=action_size,\n",
    "    seed=0)\n",
    "\n",
    "train(agent=vanilla_agent, file_name=\"vanilla.pth\")"
   ]
  },
  {
   "cell_type": "code",
   "execution_count": 13,
   "metadata": {},
   "outputs": [
    {
     "name": "stdout",
     "output_type": "stream",
     "text": [
      "Score: 1.0\n"
     ]
    }
   ],
   "source": [
    "vanilla_agent = VanillaAgent(\n",
    "    state_size=state_size,\n",
    "    action_size=action_size,\n",
    "    seed=0)\n",
    "\n",
    "test(agent=vanilla_agent, file_name=\"vanilla.pth\")"
   ]
  },
  {
   "cell_type": "markdown",
   "metadata": {},
   "source": [
    "### 6. Double Deep Q-Network"
   ]
  },
  {
   "cell_type": "code",
   "execution_count": 12,
   "metadata": {},
   "outputs": [],
   "source": [
    "class DoubleQAgent(VanillaAgent):\n",
    "    def __init__(self, state_size, action_size, seed):\n",
    "        super(DoubleQAgent, self).__init__(state_size, action_size, seed)\n",
    "    \n",
    "\n",
    "    def _calc_targets_outputs(self, states, actions, rewards, next_states, dones):\n",
    "        targets = rewards + (1.0 - dones) * GAMMA \\\n",
    "            * self.qnetwork_target.forward(next_states).gather(\n",
    "                1,\n",
    "                self.qnetwork_local(next_states).max(1)[1].unsqueeze(1))\n",
    "        \n",
    "        targets = targets.detach()\n",
    "        \n",
    "        outputs = self.qnetwork_local.forward(states).gather(1, actions)\n",
    "        return targets, outputs"
   ]
  },
  {
   "cell_type": "code",
   "execution_count": 15,
   "metadata": {},
   "outputs": [
    {
     "name": "stdout",
     "output_type": "stream",
     "text": [
      "Episode 100\tAverage Score: 0.95\n",
      "Episode 200\tAverage Score: 4.02\n",
      "Episode 300\tAverage Score: 7.10\n",
      "Episode 400\tAverage Score: 9.50\n",
      "Episode 492\tAverage Score: 13.01\n",
      "Environment solved in 392 episodes!\tAverage Score: 13.01\n"
     ]
    },
    {
     "data": {
      "image/png": "[encoded data removed]",
      "text/plain": [
       "<Figure size 432x288 with 1 Axes>"
      ]
     },
     "metadata": {
      "needs_background": "light"
     },
     "output_type": "display_data"
    }
   ],
   "source": [
    "double_q_agent = DoubleQAgent(\n",
    "    state_size=state_size,\n",
    "    action_size=action_size,\n",
    "    seed=0)\n",
    "\n",
    "train(agent=double_q_agent, file_name=\"double_q.pth\")"
   ]
  },
  {
   "cell_type": "code",
   "execution_count": 16,
   "metadata": {},
   "outputs": [
    {
     "name": "stdout",
     "output_type": "stream",
     "text": [
      "Score: 0.0\n"
     ]
    }
   ],
   "source": [
    "double_q_agent = DoubleQAgent(\n",
    "    state_size=state_size,\n",
    "    action_size=action_size,\n",
    "    seed=0)\n",
    "\n",
    "test(agent=double_q_agent, file_name=\"double_q.pth\")"
   ]
  },
  {
   "cell_type": "markdown",
   "metadata": {},
   "source": [
    "### 7. Dueling Deep Q-Network"
   ]
  },
  {
   "cell_type": "code",
   "execution_count": 16,
   "metadata": {},
   "outputs": [],
   "source": [
    "class DuelingQNetwork(nn.Module):\n",
    "    \"\"\"Vanilla Actor (Policy) Model.\"\"\"\n",
    "\n",
    "    def __init__(self, state_size, action_size, seed):\n",
    "        \"\"\"Initialize parameters and build model.\n",
    "        Params\n",
    "        ======\n",
    "            state_size (int): Dimension of each state\n",
    "            action_size (int): Dimension of each action\n",
    "            seed (int): Random seed\n",
    "        \"\"\"\n",
    "        super(DuelingQNetwork, self).__init__()\n",
    "        self.seed = torch.manual_seed(seed)\n",
    "\n",
    "        self.fc1 = nn.Linear(state_size, 64)\n",
    "        self.fc2 = nn.Linear(64, 64)\n",
    "        self.fc3_a = nn.Linear(64, 8)\n",
    "        self.fc3_v = nn.Linear(64, 8)\n",
    "        self.fc4_a = nn.Linear(8, action_size)\n",
    "        self.fc4_v = nn.Linear(8, 1)\n",
    "\n",
    "        \n",
    "    def forward(self, state):\n",
    "        \"\"\"Build a network that maps state -> action values.\"\"\"\n",
    "        x = self.fc1(state)\n",
    "        x = F.relu(x)\n",
    "        x = self.fc2(x)\n",
    "        x = F.relu(x)\n",
    "        a = self.fc3_a(x)\n",
    "        v = self.fc3_v(x)\n",
    "        a = F.relu(a)\n",
    "        v = F.relu(v)\n",
    "        a = self.fc4_a(a)\n",
    "        v = self.fc4_v(v)\n",
    "        \n",
    "        return a + v - torch.mean(a, dim=1).reshape(-1, 1)"
   ]
  },
  {
   "cell_type": "code",
   "execution_count": 17,
   "metadata": {},
   "outputs": [],
   "source": [
    "class DuelingQAgent(DoubleQAgent):\n",
    "    def __init__(self, state_size, action_size, seed):\n",
    "        super(DuelingQAgent, self).__init__(state_size, action_size, seed)\n",
    "        \n",
    "        \n",
    "    def _createNetwork(self):\n",
    "        return DuelingQNetwork(self.state_size, self.action_size, self.seed).to(device)    "
   ]
  },
  {
   "cell_type": "code",
   "execution_count": 19,
   "metadata": {},
   "outputs": [
    {
     "name": "stdout",
     "output_type": "stream",
     "text": [
      "Episode 100\tAverage Score: 0.40\n",
      "Episode 200\tAverage Score: 3.72\n",
      "Episode 300\tAverage Score: 7.19\n",
      "Episode 400\tAverage Score: 11.04\n",
      "Episode 469\tAverage Score: 13.07\n",
      "Environment solved in 369 episodes!\tAverage Score: 13.07\n"
     ]
    },
    {
     "data": {
      "image/png": "[encoded data removed]",
      "text/plain": [
       "<Figure size 432x288 with 1 Axes>"
      ]
     },
     "metadata": {
      "needs_background": "light"
     },
     "output_type": "display_data"
    }
   ],
   "source": [
    "dueling_q_agent = DuelingQAgent(\n",
    "    state_size=state_size,\n",
    "    action_size=action_size,\n",
    "    seed=0)\n",
    "\n",
    "train(agent=dueling_q_agent, file_name=\"dueling_q.pth\")"
   ]
  },
  {
   "cell_type": "code",
   "execution_count": 20,
   "metadata": {},
   "outputs": [
    {
     "name": "stdout",
     "output_type": "stream",
     "text": [
      "Score: 15.0\n"
     ]
    }
   ],
   "source": [
    "dueling_q_agent = DuelingQAgent(\n",
    "    state_size=state_size,\n",
    "    action_size=action_size,\n",
    "    seed=0)\n",
    "\n",
    "test(agent=dueling_q_agent, file_name=\"dueling_q.pth\")"
   ]
  },
  {
   "cell_type": "markdown",
   "metadata": {},
   "source": [
    "### 8. Prioritized Replay"
   ]
  },
  {
   "cell_type": "code",
   "execution_count": 18,
   "metadata": {},
   "outputs": [],
   "source": [
    "class PrioritizedReplayBuffer(ReplayBuffer):\n",
    "    \"\"\"Fixed-size buffer to store experience tuples.\"\"\"\n",
    "\n",
    "    def __init__(self, action_size, buffer_size, batch_size, seed):\n",
    "        \"\"\"Initialize a ReplayBuffer object.\n",
    "\n",
    "        Params\n",
    "        ======\n",
    "            action_size (int): dimension of each action\n",
    "            buffer_size (int): maximum size of buffer\n",
    "            batch_size (int): size of each training batch\n",
    "            seed (int): random seed\n",
    "        \"\"\"\n",
    "        super(PrioritizedReplayBuffer, self).__init__(\n",
    "            action_size,\n",
    "            buffer_size,\n",
    "            batch_size,\n",
    "            seed)\n",
    "        \n",
    "        self.epsilon = torch.Tensor([0.1])\n",
    "        \n",
    "        np.random.seed(seed)\n",
    "        \n",
    "        \n",
    "    def sample(self, calc_target_outputs):\n",
    "        \"\"\"Randomly sample a batch of experiences from memory.\"\"\"\n",
    "        \n",
    "        states, actions, rewards, next_states, dones = \\\n",
    "                experience_to_torch_device(self.memory)\n",
    "       \n",
    "        with torch.no_grad():\n",
    "\n",
    "            targets, outputs = calc_target_outputs(\n",
    "                states,\n",
    "                actions,\n",
    "                rewards,\n",
    "                next_states,\n",
    "                dones)\n",
    "\n",
    "            inverted_n = torch.Tensor([1.0 / targets.size()[0]])\n",
    "\n",
    "            probabilities = (targets - outputs).abs() + self.epsilon\n",
    "            probabilities /= probabilities.sum()\n",
    "            probabilities = probabilities.detach()\n",
    "\n",
    "            selected_indices = np.random.choice(\n",
    "                range(targets.size()[0]),\n",
    "                size=self.batch_size,\n",
    "                replace=False,\n",
    "                p=probabilities.to(\"cpu\").numpy().reshape(-1))\n",
    "\n",
    "            selected_indices = torch.Tensor(selected_indices).long().to(device)\n",
    "\n",
    "            selected_probabilities = probabilities[selected_indices]\n",
    "            weights = inverted_n / selected_probabilities\n",
    "\n",
    "            selected_states = states[selected_indices]\n",
    "            selected_actions = actions[selected_indices]\n",
    "            selected_rewards = rewards[selected_indices]\n",
    "            selected_next_states = next_states[selected_indices]\n",
    "            selected_dones = dones[selected_indices]\n",
    "        \n",
    "        selected_targets, selected_outputs = calc_target_outputs(\n",
    "            selected_states,\n",
    "            selected_actions,\n",
    "            selected_rewards,\n",
    "            selected_next_states,\n",
    "            selected_dones)\n",
    "        \n",
    "        return selected_targets * weights, selected_outputs * weights"
   ]
  },
  {
   "cell_type": "code",
   "execution_count": 19,
   "metadata": {},
   "outputs": [],
   "source": [
    "class PrioritizedReplayQAgent(DuelingQAgent):\n",
    "    def __init__(self, state_size, action_size, seed):\n",
    "        super(PrioritizedReplayQAgent, self).__init__(state_size, action_size, seed)\n",
    "        \n",
    "    \n",
    "    def _createMemory(self):\n",
    "        return PrioritizedReplayBuffer(\n",
    "            self.action_size,\n",
    "            BUFFER_SIZE,\n",
    "            BATCH_SIZE,\n",
    "            self.seed)"
   ]
  },
  {
   "cell_type": "code",
   "execution_count": 20,
   "metadata": {},
   "outputs": [
    {
     "name": "stdout",
     "output_type": "stream",
     "text": [
      "Episode 100\tAverage Score: 0.08\n",
      "Episode 200\tAverage Score: 3.48\n",
      "Episode 300\tAverage Score: 6.71\n",
      "Episode 400\tAverage Score: 7.88\n",
      "Episode 500\tAverage Score: 12.64\n",
      "Episode 505\tAverage Score: 13.03\n",
      "Environment solved in 405 episodes!\tAverage Score: 13.03\n"
     ]
    },
    {
     "data": {
      "image/png": "[encoded data removed]",
      "text/plain": [
       "<Figure size 432x288 with 1 Axes>"
      ]
     },
     "metadata": {
      "needs_background": "light"
     },
     "output_type": "display_data"
    }
   ],
   "source": [
    "prioritized_replay_q_agent = PrioritizedReplayQAgent(\n",
    "    state_size=state_size,\n",
    "    action_size=action_size,\n",
    "    seed=0)\n",
    "\n",
    "train(\n",
    "    agent=prioritized_replay_q_agent,\n",
    "    file_name=\"prioritized_replay.pth\")"
   ]
  },
  {
   "cell_type": "code",
   "execution_count": 21,
   "metadata": {},
   "outputs": [
    {
     "name": "stdout",
     "output_type": "stream",
     "text": [
      "Score: 11.0\n"
     ]
    }
   ],
   "source": [
    "prioritized_replay_q_agent = PrioritizedReplayQAgent(\n",
    "    state_size=state_size,\n",
    "    action_size=action_size,\n",
    "    seed=0)\n",
    "\n",
    "test(\n",
    "    agent=prioritized_replay_q_agent,\n",
    "    file_name=\"prioritized_replay.pth\")"
   ]
  },
  {
   "cell_type": "markdown",
   "metadata": {},
   "source": [
    "### 9. Distributed Q-Value Estimation"
   ]
  },
  {
   "cell_type": "markdown",
   "metadata": {},
   "source": [
    "### 10. Noisy Network"
   ]
  },
  {
   "cell_type": "markdown",
   "metadata": {},
   "source": [
    "### 11. Conclusions"
   ]
  },
  {
   "cell_type": "code",
   "execution_count": null,
   "metadata": {},
   "outputs": [],
   "source": [
    "env.close()"
   ]
  }
 ],
 "metadata": {
  "kernelspec": {
   "display_name": "Python 3",
   "language": "python",
   "name": "python3"
  },
  "language_info": {
   "codemirror_mode": {
    "name": "ipython",
    "version": 3
   },
   "file_extension": ".py",
   "mimetype": "text/x-python",
   "name": "python",
   "nbconvert_exporter": "python",
   "pygments_lexer": "ipython3",
   "version": "3.6.10"
  }
 },
 "nbformat": 4,
 "nbformat_minor": 2
}
